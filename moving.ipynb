{
 "cells": [
  {
   "cell_type": "code",
   "execution_count": 11,
   "metadata": {},
   "outputs": [
    {
     "data": {
      "text/plain": [
       "['low-biased\\\\1699347525.8896205.png',\n",
       " 'low-biased\\\\1699347545.1216865.png',\n",
       " 'low-biased\\\\1699347564.5907393.png',\n",
       " 'low-biased\\\\1699347622.3895488.png',\n",
       " 'low-biased\\\\1699347642.1947556.png',\n",
       " 'low-biased\\\\1699347700.146687.png',\n",
       " 'low-biased\\\\1699347720.032717.png',\n",
       " 'low-biased\\\\1699347739.6633954.png',\n",
       " 'low-biased\\\\1699347759.3142114.png',\n",
       " 'low-biased\\\\1699347778.8811047.png',\n",
       " 'low-biased\\\\1699347798.5214162.png',\n",
       " 'low-biased\\\\1699347856.1016197.png',\n",
       " 'low-biased\\\\1699347912.9839652.png',\n",
       " 'low-biased\\\\1699347969.7800329.png',\n",
       " 'low-biased\\\\1699348027.523707.png',\n",
       " 'low-biased\\\\1699348047.223848.png',\n",
       " 'low-biased\\\\1699348103.8038793.png',\n",
       " 'low-biased\\\\1699348160.2167382.png',\n",
       " 'low-biased\\\\1699348217.6269212.png',\n",
       " 'low-biased\\\\1699348236.8905578.png',\n",
       " 'low-biased\\\\1699348741.4247954.png',\n",
       " 'low-biased\\\\1699348799.3492577.png',\n",
       " 'low-biased\\\\1699348857.5601091.png',\n",
       " 'low-biased\\\\1699348916.79269.png',\n",
       " 'low-biased\\\\1699348975.9671462.png',\n",
       " 'low-biased\\\\1699349034.5256839.png',\n",
       " 'low-biased\\\\1699349094.0723484.png']"
      ]
     },
     "execution_count": 11,
     "metadata": {},
     "output_type": "execute_result"
    }
   ],
   "source": [
    "import glob,os,pathlib,shutil\n",
    "d = \"low-biased\"\n",
    "os.makedirs(d,exist_ok=False)\n",
    "[shutil.move(p,d) for p in glob.glob(\"*.result.json\")]\n",
    "[shutil.move(p,d) for p in glob.glob(\"*.png\")]\n"
   ]
  }
 ],
 "metadata": {
  "kernelspec": {
   "display_name": "venv",
   "language": "python",
   "name": "python3"
  },
  "language_info": {
   "codemirror_mode": {
    "name": "ipython",
    "version": 3
   },
   "file_extension": ".py",
   "mimetype": "text/x-python",
   "name": "python",
   "nbconvert_exporter": "python",
   "pygments_lexer": "ipython3",
   "version": "3.10.11"
  }
 },
 "nbformat": 4,
 "nbformat_minor": 2
}
