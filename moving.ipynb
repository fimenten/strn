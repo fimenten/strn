{
 "cells": [
  {
   "cell_type": "code",
   "execution_count": 7,
   "metadata": {},
   "outputs": [
    {
     "data": {
      "text/plain": [
       "['newr3\\\\1702911563.915713.png',\n",
       " 'newr3\\\\1702911619.7267034.png',\n",
       " 'newr3\\\\1702911675.086333.png',\n",
       " 'newr3\\\\1702911731.94168.png',\n",
       " 'newr3\\\\1702911789.4269755.png',\n",
       " 'newr3\\\\1702911846.6176016.png',\n",
       " 'newr3\\\\1702911905.582083.png',\n",
       " 'newr3\\\\1702911964.3857665.png',\n",
       " 'newr3\\\\1702912020.9935944.png',\n",
       " 'newr3\\\\1702912076.6256728.png',\n",
       " 'newr3\\\\1702912132.111435.png',\n",
       " 'newr3\\\\1702912187.7431722.png',\n",
       " 'newr3\\\\1702912243.207248.png',\n",
       " 'newr3\\\\1702912299.419574.png',\n",
       " 'newr3\\\\1702912355.136572.png',\n",
       " 'newr3\\\\1702912410.8212876.png',\n",
       " 'newr3\\\\1702912466.5834808.png',\n",
       " 'newr3\\\\1702912522.2948542.png',\n",
       " 'newr3\\\\1702912578.056908.png',\n",
       " 'newr3\\\\1702912633.5199003.png']"
      ]
     },
     "execution_count": 7,
     "metadata": {},
     "output_type": "execute_result"
    }
   ],
   "source": [
    "import glob,os,pathlib,shutil\n",
    "d = \"newr3\"\n",
    "os.makedirs(d,exist_ok=False)\n",
    "[shutil.move(p,d) for p in glob.glob(\"*.result.json\")]\n",
    "[shutil.move(p,d) for p in glob.glob(\"*.png\")]\n"
   ]
  }
 ],
 "metadata": {
  "kernelspec": {
   "display_name": "venv",
   "language": "python",
   "name": "python3"
  },
  "language_info": {
   "codemirror_mode": {
    "name": "ipython",
    "version": 3
   },
   "file_extension": ".py",
   "mimetype": "text/x-python",
   "name": "python",
   "nbconvert_exporter": "python",
   "pygments_lexer": "ipython3",
   "version": "3.10.11"
  }
 },
 "nbformat": 4,
 "nbformat_minor": 2
}
