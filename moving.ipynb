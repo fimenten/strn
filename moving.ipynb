{
 "cells": [
  {
   "cell_type": "code",
   "execution_count": 1,
   "metadata": {},
   "outputs": [
    {
     "data": {
      "text/plain": [
       "['first_minus\\\\1704345980.0997417.png',\n",
       " 'first_minus\\\\1704346083.4747055.png',\n",
       " 'first_minus\\\\1704346187.4531853.png',\n",
       " 'first_minus\\\\1704346290.9764335.png',\n",
       " 'first_minus\\\\1704346395.098821.png',\n",
       " 'first_minus\\\\1704346499.102122.png',\n",
       " 'first_minus\\\\1704346709.9730954.png',\n",
       " 'first_minus\\\\1704346815.1052985.png',\n",
       " 'first_minus\\\\1704346920.0757396.png']"
      ]
     },
     "execution_count": 1,
     "metadata": {},
     "output_type": "execute_result"
    }
   ],
   "source": [
    "import glob,os,pathlib,shutil\n",
    "d = \"first_minus\"\n",
    "os.makedirs(d,exist_ok=False)\n",
    "[shutil.move(p,d) for p in glob.glob(\"*.result.json\")]\n",
    "[shutil.move(p,d) for p in glob.glob(\"*.png\")]\n"
   ]
  }
 ],
 "metadata": {
  "kernelspec": {
   "display_name": "venv",
   "language": "python",
   "name": "python3"
  },
  "language_info": {
   "codemirror_mode": {
    "name": "ipython",
    "version": 3
   },
   "file_extension": ".py",
   "mimetype": "text/x-python",
   "name": "python",
   "nbconvert_exporter": "python",
   "pygments_lexer": "ipython3",
   "version": "3.10.11"
  }
 },
 "nbformat": 4,
 "nbformat_minor": 2
}
