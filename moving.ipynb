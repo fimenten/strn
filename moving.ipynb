{
 "cells": [
  {
   "cell_type": "code",
   "execution_count": 9,
   "metadata": {},
   "outputs": [
    {
     "data": {
      "text/plain": [
       "['seconds\\\\1703249687.2738593.png',\n",
       " 'seconds\\\\1703250180.6512215.png',\n",
       " 'seconds\\\\1703250683.379719.png',\n",
       " 'seconds\\\\1703251188.497293.png',\n",
       " 'seconds\\\\1703251687.2462103.png',\n",
       " 'seconds\\\\1703252190.6567152.png',\n",
       " 'seconds\\\\1703252693.640983.png',\n",
       " 'seconds\\\\1703253200.957854.png',\n",
       " 'seconds\\\\1703253698.6909707.png',\n",
       " 'seconds\\\\1703254200.2751036.png']"
      ]
     },
     "execution_count": 9,
     "metadata": {},
     "output_type": "execute_result"
    }
   ],
   "source": [
    "import glob,os,pathlib,shutil\n",
    "d = \"seconds\"\n",
    "os.makedirs(d,exist_ok=False)\n",
    "[shutil.move(p,d) for p in glob.glob(\"*.result.json\")]\n",
    "[shutil.move(p,d) for p in glob.glob(\"*.png\")]\n"
   ]
  }
 ],
 "metadata": {
  "kernelspec": {
   "display_name": "venv",
   "language": "python",
   "name": "python3"
  },
  "language_info": {
   "codemirror_mode": {
    "name": "ipython",
    "version": 3
   },
   "file_extension": ".py",
   "mimetype": "text/x-python",
   "name": "python",
   "nbconvert_exporter": "python",
   "pygments_lexer": "ipython3",
   "version": "3.10.11"
  }
 },
 "nbformat": 4,
 "nbformat_minor": 2
}
