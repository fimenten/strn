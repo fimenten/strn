{
 "cells": [
  {
   "cell_type": "code",
   "execution_count": 8,
   "metadata": {},
   "outputs": [
    {
     "data": {
      "text/plain": [
       "['art-quiteGood\\\\1703479004.6040838.png',\n",
       " 'art-quiteGood\\\\1703479078.4495447.png',\n",
       " 'art-quiteGood\\\\1703479153.1277344.png',\n",
       " 'art-quiteGood\\\\1703479230.7388244.png',\n",
       " 'art-quiteGood\\\\1703479305.7258258.png',\n",
       " 'art-quiteGood\\\\1703479382.8638282.png',\n",
       " 'art-quiteGood\\\\1703479458.7257314.png',\n",
       " 'art-quiteGood\\\\1703479534.6654198.png',\n",
       " 'art-quiteGood\\\\1703479609.4490962.png',\n",
       " 'art-quiteGood\\\\1703479684.4806662.png']"
      ]
     },
     "execution_count": 8,
     "metadata": {},
     "output_type": "execute_result"
    }
   ],
   "source": [
    "import glob,os,pathlib,shutil\n",
    "d = \"art-quiteGood\"\n",
    "os.makedirs(d,exist_ok=False)\n",
    "[shutil.move(p,d) for p in glob.glob(\"*.result.json\")]\n",
    "[shutil.move(p,d) for p in glob.glob(\"*.png\")]\n"
   ]
  }
 ],
 "metadata": {
  "kernelspec": {
   "display_name": "venv",
   "language": "python",
   "name": "python3"
  },
  "language_info": {
   "codemirror_mode": {
    "name": "ipython",
    "version": 3
   },
   "file_extension": ".py",
   "mimetype": "text/x-python",
   "name": "python",
   "nbconvert_exporter": "python",
   "pygments_lexer": "ipython3",
   "version": "3.10.11"
  }
 },
 "nbformat": 4,
 "nbformat_minor": 2
}
