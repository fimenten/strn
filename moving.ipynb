{
 "cells": [
  {
   "cell_type": "code",
   "execution_count": 3,
   "metadata": {},
   "outputs": [
    {
     "data": {
      "text/plain": [
       "['art-extreme-variance\\\\1699276061.868272.png',\n",
       " 'art-extreme-variance\\\\1699276146.0679579.png',\n",
       " 'art-extreme-variance\\\\1699276233.1244614.png',\n",
       " 'art-extreme-variance\\\\1699276260.265884.png',\n",
       " 'art-extreme-variance\\\\1699276287.8003018.png',\n",
       " 'art-extreme-variance\\\\1699276314.9105122.png',\n",
       " 'art-extreme-variance\\\\1699276401.4340518.png',\n",
       " 'art-extreme-variance\\\\1699276427.9950614.png',\n",
       " 'art-extreme-variance\\\\1699276513.1351185.png',\n",
       " 'art-extreme-variance\\\\1699276539.9489536.png',\n",
       " 'art-extreme-variance\\\\1699276627.0027242.png',\n",
       " 'art-extreme-variance\\\\1699276713.978213.png',\n",
       " 'art-extreme-variance\\\\1699276799.6305563.png',\n",
       " 'art-extreme-variance\\\\1699276826.1999247.png',\n",
       " 'art-extreme-variance\\\\1699276853.5197563.png',\n",
       " 'art-extreme-variance\\\\1699276880.310732.png',\n",
       " 'art-extreme-variance\\\\1699276907.4928222.png',\n",
       " 'art-extreme-variance\\\\1699276992.2983525.png',\n",
       " 'art-extreme-variance\\\\1699277075.8620844.png',\n",
       " 'art-extreme-variance\\\\1699277103.2843769.png']"
      ]
     },
     "execution_count": 3,
     "metadata": {},
     "output_type": "execute_result"
    }
   ],
   "source": [
    "import glob,os,pathlib,shutil\n",
    "d = \"art-extreme-variance\"\n",
    "os.makedirs(d,exist_ok=False)\n",
    "[shutil.move(p,d) for p in glob.glob(\"*.result.json\")]\n",
    "[shutil.move(p,d) for p in glob.glob(\"*.png\")]\n"
   ]
  }
 ],
 "metadata": {
  "kernelspec": {
   "display_name": "venv",
   "language": "python",
   "name": "python3"
  },
  "language_info": {
   "codemirror_mode": {
    "name": "ipython",
    "version": 3
   },
   "file_extension": ".py",
   "mimetype": "text/x-python",
   "name": "python",
   "nbconvert_exporter": "python",
   "pygments_lexer": "ipython3",
   "version": "3.10.11"
  }
 },
 "nbformat": 4,
 "nbformat_minor": 2
}
