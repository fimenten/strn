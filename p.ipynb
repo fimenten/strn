{
 "cells": [
  {
   "cell_type": "code",
   "execution_count": 36,
   "metadata": {},
   "outputs": [],
   "source": [
    "import sympy as sp\n",
    "\n",
    "# 変数の定義\n",
    "M, j,k, j_prime = sp.symbols('M j k j_prime')\n",
    "u = sp.IndexedBase('u', real=True, positive=True)\n",
    "l = sp.IndexedBase('l', real=True, positive=True)\n",
    "Z = sp.Sum(sp.exp(u[j]), (j, 1, 4)).doit()\n",
    "L = sp.Sum((sp.exp(u[k]) * l[k]) / Z, (k, 1, 4)).doit()\n"
   ]
  },
  {
   "cell_type": "code",
   "execution_count": 37,
   "metadata": {},
   "outputs": [],
   "source": [
    "d2L_du = sp.diff(L, u[1])"
   ]
  },
  {
   "cell_type": "code",
   "execution_count": 38,
   "metadata": {},
   "outputs": [
    {
     "data": {
      "text/latex": [
       "$\\displaystyle - \\frac{\\left(e^{{u}_{1}} {l}_{1} + e^{{u}_{2}} {l}_{2} + e^{{u}_{3}} {l}_{3} + e^{{u}_{4}} {l}_{4}\\right) e^{{u}_{1}}}{\\left(e^{{u}_{1}} + e^{{u}_{2}} + e^{{u}_{3}} + e^{{u}_{4}}\\right)^{2}} + \\frac{e^{{u}_{1}} {l}_{1}}{e^{{u}_{1}} + e^{{u}_{2}} + e^{{u}_{3}} + e^{{u}_{4}}}$"
      ],
      "text/plain": [
       "-(exp(u[1])*l[1] + exp(u[2])*l[2] + exp(u[3])*l[3] + exp(u[4])*l[4])*exp(u[1])/(exp(u[1]) + exp(u[2]) + exp(u[3]) + exp(u[4]))**2 + exp(u[1])*l[1]/(exp(u[1]) + exp(u[2]) + exp(u[3]) + exp(u[4]))"
      ]
     },
     "execution_count": 38,
     "metadata": {},
     "output_type": "execute_result"
    }
   ],
   "source": [
    "d2L_du"
   ]
  },
  {
   "cell_type": "code",
   "execution_count": 39,
   "metadata": {},
   "outputs": [],
   "source": [
    "d2L_du_du_prime = sp.diff(L, u[1], u[2])\n"
   ]
  },
  {
   "cell_type": "code",
   "execution_count": 40,
   "metadata": {},
   "outputs": [
    {
     "data": {
      "text/latex": [
       "$\\displaystyle \\frac{\\left(- \\left({l}_{1} + {l}_{2}\\right) \\left(e^{{u}_{1}} + e^{{u}_{2}} + e^{{u}_{3}} + e^{{u}_{4}}\\right) + 2 e^{{u}_{1}} {l}_{1} + 2 e^{{u}_{2}} {l}_{2} + 2 e^{{u}_{3}} {l}_{3} + 2 e^{{u}_{4}} {l}_{4}\\right) e^{{u}_{1} + {u}_{2}}}{\\left(e^{{u}_{1}} + e^{{u}_{2}} + e^{{u}_{3}} + e^{{u}_{4}}\\right)^{3}}$"
      ],
      "text/plain": [
       "(-(l[1] + l[2])*(exp(u[1]) + exp(u[2]) + exp(u[3]) + exp(u[4])) + 2*exp(u[1])*l[1] + 2*exp(u[2])*l[2] + 2*exp(u[3])*l[3] + 2*exp(u[4])*l[4])*exp(u[1] + u[2])/(exp(u[1]) + exp(u[2]) + exp(u[3]) + exp(u[4]))**3"
      ]
     },
     "execution_count": 40,
     "metadata": {},
     "output_type": "execute_result"
    }
   ],
   "source": [
    "sp.simplify(d2L_du_du_prime)"
   ]
  }
 ],
 "metadata": {
  "kernelspec": {
   "display_name": "venv",
   "language": "python",
   "name": "python3"
  },
  "language_info": {
   "codemirror_mode": {
    "name": "ipython",
    "version": 3
   },
   "file_extension": ".py",
   "mimetype": "text/x-python",
   "name": "python",
   "nbconvert_exporter": "python",
   "pygments_lexer": "ipython3",
   "version": "3.10.11"
  }
 },
 "nbformat": 4,
 "nbformat_minor": 2
}
